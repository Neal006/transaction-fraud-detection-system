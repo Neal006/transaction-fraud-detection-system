{
  "nbformat": 4,
  "nbformat_minor": 0,
  "metadata": {
    "colab": {
      "provenance": [],
      "gpuType": "T4",
      "include_colab_link": true
    },
    "kernelspec": {
      "name": "python3",
      "display_name": "Python 3"
    },
    "language_info": {
      "name": "python"
    },
    "accelerator": "GPU"
  },
  "cells": [
    {
      "cell_type": "markdown",
      "metadata": {
        "id": "view-in-github",
        "colab_type": "text"
      },
      "source": [
        "<a href=\"https://colab.research.google.com/github/Neal006/transaction-fraud-detection-system/blob/master/ssl_roboticarm_anomalydetection.ipynb\" target=\"_parent\"><img src=\"https://colab.research.google.com/assets/colab-badge.svg\" alt=\"Open In Colab\"/></a>"
      ]
    },
    {
      "cell_type": "code",
      "execution_count": null,
      "metadata": {
        "colab": {
          "base_uri": "https://localhost:8080/"
        },
        "id": "0khK0_mH7_H6",
        "outputId": "50ac3b77-25f0-46e9-df0d-1363652d4940"
      },
      "outputs": [
        {
          "output_type": "stream",
          "name": "stdout",
          "text": [
            "Mounted at /content/drive\n"
          ]
        }
      ],
      "source": [
        "from google.colab import drive\n",
        "drive.mount('/content/drive')"
      ]
    },
    {
      "cell_type": "code",
      "source": [
        "!pip install torch pytorch-lightning tslearn umap-learn faiss-cpu scikit-learn pandas matplotlib seaborn\n",
        "import torch, torch.nn as nn\n",
        "import pytorch_lightning as pl\n",
        "import pandas as pd, numpy as np\n",
        "from sklearn.preprocessing import StandardScaler\n",
        "import matplotlib.pyplot as plt, seaborn as sns\n",
        "from sklearn.metrics import classification_report, roc_auc_score\n",
        "print(\"installed all the dependencies\")"
      ],
      "metadata": {
        "colab": {
          "base_uri": "https://localhost:8080/"
        },
        "id": "981m4Sg-8c20",
        "outputId": "acb4d590-c261-4e1f-f537-9193d8fcb81b"
      },
      "execution_count": null,
      "outputs": [
        {
          "output_type": "stream",
          "name": "stdout",
          "text": [
            "Requirement already satisfied: torch in /usr/local/lib/python3.12/dist-packages (2.8.0+cu126)\n",
            "Collecting pytorch-lightning\n",
            "  Downloading pytorch_lightning-2.5.5-py3-none-any.whl.metadata (20 kB)\n",
            "Collecting tslearn\n",
            "  Downloading tslearn-0.6.4-py3-none-any.whl.metadata (15 kB)\n",
            "Requirement already satisfied: umap-learn in /usr/local/lib/python3.12/dist-packages (0.5.9.post2)\n",
            "Collecting faiss-cpu\n",
            "  Downloading faiss_cpu-1.12.0-cp312-cp312-manylinux_2_27_x86_64.manylinux_2_28_x86_64.whl.metadata (5.1 kB)\n",
            "Requirement already satisfied: scikit-learn in /usr/local/lib/python3.12/dist-packages (1.6.1)\n",
            "Requirement already satisfied: pandas in /usr/local/lib/python3.12/dist-packages (2.2.2)\n",
            "Requirement already satisfied: matplotlib in /usr/local/lib/python3.12/dist-packages (3.10.0)\n",
            "Requirement already satisfied: seaborn in /usr/local/lib/python3.12/dist-packages (0.13.2)\n",
            "Requirement already satisfied: filelock in /usr/local/lib/python3.12/dist-packages (from torch) (3.19.1)\n",
            "Requirement already satisfied: typing-extensions>=4.10.0 in /usr/local/lib/python3.12/dist-packages (from torch) (4.15.0)\n",
            "Requirement already satisfied: setuptools in /usr/local/lib/python3.12/dist-packages (from torch) (75.2.0)\n",
            "Requirement already satisfied: sympy>=1.13.3 in /usr/local/lib/python3.12/dist-packages (from torch) (1.13.3)\n",
            "Requirement already satisfied: networkx in /usr/local/lib/python3.12/dist-packages (from torch) (3.5)\n",
            "Requirement already satisfied: jinja2 in /usr/local/lib/python3.12/dist-packages (from torch) (3.1.6)\n",
            "Requirement already satisfied: fsspec in /usr/local/lib/python3.12/dist-packages (from torch) (2025.3.0)\n",
            "Requirement already satisfied: nvidia-cuda-nvrtc-cu12==12.6.77 in /usr/local/lib/python3.12/dist-packages (from torch) (12.6.77)\n",
            "Requirement already satisfied: nvidia-cuda-runtime-cu12==12.6.77 in /usr/local/lib/python3.12/dist-packages (from torch) (12.6.77)\n",
            "Requirement already satisfied: nvidia-cuda-cupti-cu12==12.6.80 in /usr/local/lib/python3.12/dist-packages (from torch) (12.6.80)\n",
            "Requirement already satisfied: nvidia-cudnn-cu12==9.10.2.21 in /usr/local/lib/python3.12/dist-packages (from torch) (9.10.2.21)\n",
            "Requirement already satisfied: nvidia-cublas-cu12==12.6.4.1 in /usr/local/lib/python3.12/dist-packages (from torch) (12.6.4.1)\n",
            "Requirement already satisfied: nvidia-cufft-cu12==11.3.0.4 in /usr/local/lib/python3.12/dist-packages (from torch) (11.3.0.4)\n",
            "Requirement already satisfied: nvidia-curand-cu12==10.3.7.77 in /usr/local/lib/python3.12/dist-packages (from torch) (10.3.7.77)\n",
            "Requirement already satisfied: nvidia-cusolver-cu12==11.7.1.2 in /usr/local/lib/python3.12/dist-packages (from torch) (11.7.1.2)\n",
            "Requirement already satisfied: nvidia-cusparse-cu12==12.5.4.2 in /usr/local/lib/python3.12/dist-packages (from torch) (12.5.4.2)\n",
            "Requirement already satisfied: nvidia-cusparselt-cu12==0.7.1 in /usr/local/lib/python3.12/dist-packages (from torch) (0.7.1)\n",
            "Requirement already satisfied: nvidia-nccl-cu12==2.27.3 in /usr/local/lib/python3.12/dist-packages (from torch) (2.27.3)\n",
            "Requirement already satisfied: nvidia-nvtx-cu12==12.6.77 in /usr/local/lib/python3.12/dist-packages (from torch) (12.6.77)\n",
            "Requirement already satisfied: nvidia-nvjitlink-cu12==12.6.85 in /usr/local/lib/python3.12/dist-packages (from torch) (12.6.85)\n",
            "Requirement already satisfied: nvidia-cufile-cu12==1.11.1.6 in /usr/local/lib/python3.12/dist-packages (from torch) (1.11.1.6)\n",
            "Requirement already satisfied: triton==3.4.0 in /usr/local/lib/python3.12/dist-packages (from torch) (3.4.0)\n",
            "Requirement already satisfied: tqdm>=4.57.0 in /usr/local/lib/python3.12/dist-packages (from pytorch-lightning) (4.67.1)\n",
            "Requirement already satisfied: PyYAML>5.4 in /usr/local/lib/python3.12/dist-packages (from pytorch-lightning) (6.0.2)\n",
            "Collecting torchmetrics>0.7.0 (from pytorch-lightning)\n",
            "  Downloading torchmetrics-1.8.2-py3-none-any.whl.metadata (22 kB)\n",
            "Requirement already satisfied: packaging>=20.0 in /usr/local/lib/python3.12/dist-packages (from pytorch-lightning) (25.0)\n",
            "Collecting lightning-utilities>=0.10.0 (from pytorch-lightning)\n",
            "  Downloading lightning_utilities-0.15.2-py3-none-any.whl.metadata (5.7 kB)\n",
            "Requirement already satisfied: numpy<2.3,>=1.24.3 in /usr/local/lib/python3.12/dist-packages (from tslearn) (2.0.2)\n",
            "Requirement already satisfied: scipy<1.17,>=1.10.1 in /usr/local/lib/python3.12/dist-packages (from tslearn) (1.16.1)\n",
            "Requirement already satisfied: numba<0.62,>=0.58.1 in /usr/local/lib/python3.12/dist-packages (from tslearn) (0.60.0)\n",
            "Requirement already satisfied: joblib<1.6,>=0.12 in /usr/local/lib/python3.12/dist-packages (from tslearn) (1.5.2)\n",
            "Requirement already satisfied: pynndescent>=0.5 in /usr/local/lib/python3.12/dist-packages (from umap-learn) (0.5.13)\n",
            "Requirement already satisfied: threadpoolctl>=3.1.0 in /usr/local/lib/python3.12/dist-packages (from scikit-learn) (3.6.0)\n",
            "Requirement already satisfied: python-dateutil>=2.8.2 in /usr/local/lib/python3.12/dist-packages (from pandas) (2.9.0.post0)\n",
            "Requirement already satisfied: pytz>=2020.1 in /usr/local/lib/python3.12/dist-packages (from pandas) (2025.2)\n",
            "Requirement already satisfied: tzdata>=2022.7 in /usr/local/lib/python3.12/dist-packages (from pandas) (2025.2)\n",
            "Requirement already satisfied: contourpy>=1.0.1 in /usr/local/lib/python3.12/dist-packages (from matplotlib) (1.3.3)\n",
            "Requirement already satisfied: cycler>=0.10 in /usr/local/lib/python3.12/dist-packages (from matplotlib) (0.12.1)\n",
            "Requirement already satisfied: fonttools>=4.22.0 in /usr/local/lib/python3.12/dist-packages (from matplotlib) (4.59.2)\n",
            "Requirement already satisfied: kiwisolver>=1.3.1 in /usr/local/lib/python3.12/dist-packages (from matplotlib) (1.4.9)\n",
            "Requirement already satisfied: pillow>=8 in /usr/local/lib/python3.12/dist-packages (from matplotlib) (11.3.0)\n",
            "Requirement already satisfied: pyparsing>=2.3.1 in /usr/local/lib/python3.12/dist-packages (from matplotlib) (3.2.3)\n",
            "Requirement already satisfied: aiohttp!=4.0.0a0,!=4.0.0a1 in /usr/local/lib/python3.12/dist-packages (from fsspec[http]>=2022.5.0->pytorch-lightning) (3.12.15)\n",
            "Requirement already satisfied: llvmlite<0.44,>=0.43.0dev0 in /usr/local/lib/python3.12/dist-packages (from numba<0.62,>=0.58.1->tslearn) (0.43.0)\n",
            "Requirement already satisfied: six>=1.5 in /usr/local/lib/python3.12/dist-packages (from python-dateutil>=2.8.2->pandas) (1.17.0)\n",
            "Requirement already satisfied: mpmath<1.4,>=1.1.0 in /usr/local/lib/python3.12/dist-packages (from sympy>=1.13.3->torch) (1.3.0)\n",
            "Requirement already satisfied: MarkupSafe>=2.0 in /usr/local/lib/python3.12/dist-packages (from jinja2->torch) (3.0.2)\n",
            "Requirement already satisfied: aiohappyeyeballs>=2.5.0 in /usr/local/lib/python3.12/dist-packages (from aiohttp!=4.0.0a0,!=4.0.0a1->fsspec[http]>=2022.5.0->pytorch-lightning) (2.6.1)\n",
            "Requirement already satisfied: aiosignal>=1.4.0 in /usr/local/lib/python3.12/dist-packages (from aiohttp!=4.0.0a0,!=4.0.0a1->fsspec[http]>=2022.5.0->pytorch-lightning) (1.4.0)\n",
            "Requirement already satisfied: attrs>=17.3.0 in /usr/local/lib/python3.12/dist-packages (from aiohttp!=4.0.0a0,!=4.0.0a1->fsspec[http]>=2022.5.0->pytorch-lightning) (25.3.0)\n",
            "Requirement already satisfied: frozenlist>=1.1.1 in /usr/local/lib/python3.12/dist-packages (from aiohttp!=4.0.0a0,!=4.0.0a1->fsspec[http]>=2022.5.0->pytorch-lightning) (1.7.0)\n",
            "Requirement already satisfied: multidict<7.0,>=4.5 in /usr/local/lib/python3.12/dist-packages (from aiohttp!=4.0.0a0,!=4.0.0a1->fsspec[http]>=2022.5.0->pytorch-lightning) (6.6.4)\n",
            "Requirement already satisfied: propcache>=0.2.0 in /usr/local/lib/python3.12/dist-packages (from aiohttp!=4.0.0a0,!=4.0.0a1->fsspec[http]>=2022.5.0->pytorch-lightning) (0.3.2)\n",
            "Requirement already satisfied: yarl<2.0,>=1.17.0 in /usr/local/lib/python3.12/dist-packages (from aiohttp!=4.0.0a0,!=4.0.0a1->fsspec[http]>=2022.5.0->pytorch-lightning) (1.20.1)\n",
            "Requirement already satisfied: idna>=2.0 in /usr/local/lib/python3.12/dist-packages (from yarl<2.0,>=1.17.0->aiohttp!=4.0.0a0,!=4.0.0a1->fsspec[http]>=2022.5.0->pytorch-lightning) (3.10)\n",
            "Downloading pytorch_lightning-2.5.5-py3-none-any.whl (832 kB)\n",
            "\u001b[2K   \u001b[90m━━━━━━━━━━━━━━━━━━━━━━━━━━━━━━━━━━━━━━━━\u001b[0m \u001b[32m832.4/832.4 kB\u001b[0m \u001b[31m53.6 MB/s\u001b[0m eta \u001b[36m0:00:00\u001b[0m\n",
            "\u001b[?25hDownloading tslearn-0.6.4-py3-none-any.whl (389 kB)\n",
            "\u001b[2K   \u001b[90m━━━━━━━━━━━━━━━━━━━━━━━━━━━━━━━━━━━━━━━━\u001b[0m \u001b[32m389.9/389.9 kB\u001b[0m \u001b[31m34.9 MB/s\u001b[0m eta \u001b[36m0:00:00\u001b[0m\n",
            "\u001b[?25hDownloading faiss_cpu-1.12.0-cp312-cp312-manylinux_2_27_x86_64.manylinux_2_28_x86_64.whl (31.4 MB)\n",
            "\u001b[2K   \u001b[90m━━━━━━━━━━━━━━━━━━━━━━━━━━━━━━━━━━━━━━━━\u001b[0m \u001b[32m31.4/31.4 MB\u001b[0m \u001b[31m58.1 MB/s\u001b[0m eta \u001b[36m0:00:00\u001b[0m\n",
            "\u001b[?25hDownloading lightning_utilities-0.15.2-py3-none-any.whl (29 kB)\n",
            "Downloading torchmetrics-1.8.2-py3-none-any.whl (983 kB)\n",
            "\u001b[2K   \u001b[90m━━━━━━━━━━━━━━━━━━━━━━━━━━━━━━━━━━━━━━━━\u001b[0m \u001b[32m983.2/983.2 kB\u001b[0m \u001b[31m61.1 MB/s\u001b[0m eta \u001b[36m0:00:00\u001b[0m\n",
            "\u001b[?25hInstalling collected packages: lightning-utilities, faiss-cpu, tslearn, torchmetrics, pytorch-lightning\n",
            "Successfully installed faiss-cpu-1.12.0 lightning-utilities-0.15.2 pytorch-lightning-2.5.5 torchmetrics-1.8.2 tslearn-0.6.4\n",
            "installed all the dependencies\n"
          ]
        }
      ]
    },
    {
      "cell_type": "code",
      "source": [
        "NICLA_PATH = \"/content/drive/MyDrive/casper_project/dataset/nicla.csv\"\n",
        "\n",
        "nicla = pd.read_csv(\n",
        "    NICLA_PATH,\n",
        "    on_bad_lines=\"warn\",\n",
        "    skiprows=6,\n",
        "    names=[\"AccX\", \"AccY\", \"AccZ\", \"GyroX\", \"GyroY\", \"GyroZ\", \"MagX\", \"MagY\", \"MagZ\"],\n",
        ")\n",
        "\n",
        "# Check if there are any empty/Nan variables.\n",
        "if nicla.isnull().values.any():\n",
        "    raise ValueError(\"Nan variable is present.\")\n",
        "\n",
        "# Explore the dataframe.\n",
        "print(nicla.info())"
      ],
      "metadata": {
        "colab": {
          "base_uri": "https://localhost:8080/"
        },
        "id": "3T6WhdQ49AwI",
        "outputId": "b750675e-da6b-441a-fbdf-e0500082ff4f"
      },
      "execution_count": null,
      "outputs": [
        {
          "output_type": "stream",
          "name": "stdout",
          "text": [
            "<class 'pandas.core.frame.DataFrame'>\n",
            "RangeIndex: 1751682 entries, 0 to 1751681\n",
            "Data columns (total 9 columns):\n",
            " #   Column  Dtype  \n",
            "---  ------  -----  \n",
            " 0   AccX    float64\n",
            " 1   AccY    float64\n",
            " 2   AccZ    float64\n",
            " 3   GyroX   float64\n",
            " 4   GyroY   float64\n",
            " 5   GyroZ   float64\n",
            " 6   MagX    float64\n",
            " 7   MagY    float64\n",
            " 8   MagZ    float64\n",
            "dtypes: float64(9)\n",
            "memory usage: 120.3 MB\n",
            "None\n"
          ]
        }
      ]
    },
    {
      "cell_type": "code",
      "source": [
        "import matplotlib.pyplot as plt\n",
        "\n",
        "\n",
        "fig, ((ax1, ax2, ax3), (ax4, ax5, ax6), (ax7, ax8, ax9)) = plt.subplots(\n",
        "    3, 3, sharex=True, figsize=(10, 6), constrained_layout=True\n",
        ")\n",
        "\n",
        "START_INDEX = 0\n",
        "END_INDEX = 1000\n",
        "\n",
        "ax1.plot(nicla.index[START_INDEX:END_INDEX], nicla[\"AccX\"][START_INDEX:END_INDEX])\n",
        "ax1.set_ylabel(r\"AccX $(m/s^2)$\")\n",
        "\n",
        "ax2.plot(nicla.index[START_INDEX:END_INDEX], nicla[\"GyroX\"][START_INDEX:END_INDEX])\n",
        "ax2.set_ylabel(r\"GyroX $(dps)$\")\n",
        "\n",
        "ax3.plot(nicla.index[START_INDEX:END_INDEX], nicla[\"MagX\"][START_INDEX:END_INDEX])\n",
        "ax3.set_ylabel(r\"MagX (${\\mu}T$)\")\n",
        "\n",
        "ax4.plot(nicla.index[START_INDEX:END_INDEX], nicla[\"AccY\"][START_INDEX:END_INDEX])\n",
        "ax4.set_ylabel(r\"AccY $(m/s^2)$\")\n",
        "\n",
        "ax5.plot(nicla.index[START_INDEX:END_INDEX], nicla[\"GyroY\"][START_INDEX:END_INDEX])\n",
        "ax5.set_ylabel(r\"GyroY $(dps)$\")\n",
        "\n",
        "ax6.plot(nicla.index[START_INDEX:END_INDEX], nicla[\"MagY\"][START_INDEX:END_INDEX])\n",
        "ax6.set_ylabel(r\"MagY (${\\mu}T$)\")\n",
        "\n",
        "ax7.plot(nicla.index[START_INDEX:END_INDEX], nicla[\"AccZ\"][START_INDEX:END_INDEX])\n",
        "ax7.set_ylabel(r\"AccZ $(m/s^2)$\")\n",
        "\n",
        "ax8.plot(nicla.index[START_INDEX:END_INDEX], nicla[\"GyroZ\"][START_INDEX:END_INDEX])\n",
        "ax8.set_ylabel(r\"GyroZ $(dps)$\")\n",
        "\n",
        "ax9.plot(nicla.index[START_INDEX:END_INDEX], nicla[\"MagZ\"][START_INDEX:END_INDEX])\n",
        "ax9.set_ylabel(r\"MagZ (${\\mu}T$)\")\n",
        "\n",
        "fig.align_labels()\n",
        "plt.suptitle(\"Nicla Sense Data First 1000 points\", x=0.5, y=1.05, fontsize=20)\n",
        "plt.show()"
      ],
      "metadata": {
        "colab": {
          "base_uri": "https://localhost:8080/",
          "height": 565
        },
        "id": "awrbxXwAKL-L",
        "outputId": "917216c6-a056-444e-8318-ef105c130e36"
      },
      "execution_count": null,
      "outputs": [
        {
          "output_type": "display_data",
          "data": {
            "text/plain": [
              "<Figure size 1000x600 with 9 Axes>"
            ],
            "image/png": "[encoded data removed]"
          },
          "metadata": {}
        }
      ]
    },
    {
      "cell_type": "code",
      "source": [
        "index = np.argmax(nicla[\"GyroX\"][:1000].diff().abs() >= 1)\n",
        "index"
      ],
      "metadata": {
        "colab": {
          "base_uri": "https://localhost:8080/"
        },
        "id": "OvuVNzpwKmKJ",
        "outputId": "e3f8d6bd-ffc4-4082-c41c-9b3d8c478649"
      },
      "execution_count": null,
      "outputs": [
        {
          "output_type": "execute_result",
          "data": {
            "text/plain": [
              "np.int64(898)"
            ]
          },
          "metadata": {},
          "execution_count": 5
        }
      ]
    },
    {
      "cell_type": "code",
      "source": [
        "# Drop the first 898 points\n",
        "nicla_dropped = nicla.iloc[897:]\n",
        "# Reset the index.\n",
        "nicla_dropped.index = pd.RangeIndex(len(nicla_dropped.index))"
      ],
      "metadata": {
        "id": "i_ZJmxkIKov6"
      },
      "execution_count": null,
      "outputs": []
    },
    {
      "cell_type": "code",
      "source": [
        "RIGHT = \"/content/drive/MyDrive/casper_project/dataset/right_arm.csv\"\n",
        "\n",
        "right_arm = pd.read_csv(RIGHT, on_bad_lines=\"warn\")\n",
        "\n",
        "# Reset Timestamp to 0.\n",
        "right_arm[\"Timestamp\"] = right_arm[\"Timestamp\"] - right_arm[\"Timestamp\"][0]"
      ],
      "metadata": {
        "id": "vi7b8lRAKtn3"
      },
      "execution_count": null,
      "outputs": []
    },
    {
      "cell_type": "code",
      "source": [
        "# Get the length of nicla and the other one.\n",
        "len_nicla_dropped = len(nicla_dropped)\n",
        "len_right_arm = len(right_arm)\n",
        "\n",
        "print(f\"The length of the right arm data is {len_right_arm}\")\n",
        "print(f\"The length of the nicla data is {len_nicla_dropped}\")"
      ],
      "metadata": {
        "colab": {
          "base_uri": "https://localhost:8080/"
        },
        "id": "Z6NlD-_vLDlX",
        "outputId": "a8db064f-ac3a-4ac1-b630-55ec751bb845"
      },
      "execution_count": null,
      "outputs": [
        {
          "output_type": "stream",
          "name": "stdout",
          "text": [
            "The length of the right arm data is 1762650\n",
            "The length of the nicla data is 1750785\n"
          ]
        }
      ]
    },
    {
      "cell_type": "code",
      "source": [
        "# Find the final 1.\n",
        "df_labels = right_arm[\"Anomaly State\"]\n",
        "index_list = np.where(df_labels == 1)\n",
        "index_of_last_one = index_list[0][-1]\n",
        "print(f\"The final 1 is located at: {index_of_last_one}\")"
      ],
      "metadata": {
        "colab": {
          "base_uri": "https://localhost:8080/"
        },
        "id": "RSQSK75rLH6j",
        "outputId": "404fdd0f-7790-4f5c-fab3-ba41ed4591e8"
      },
      "execution_count": null,
      "outputs": [
        {
          "output_type": "stream",
          "name": "stdout",
          "text": [
            "The final 1 is located at: 1728006\n"
          ]
        }
      ]
    },
    {
      "cell_type": "code",
      "source": [
        "right_arm = right_arm[0:1728006]\n",
        "nicla_dropped = nicla_dropped[0:1728006]\n",
        "n = len(nicla_dropped)\n",
        "n_arm = len(right_arm)\n",
        "print(f\"The length of Nicla data is {n}\")\n",
        "print(f\"The length of arm data is {n_arm}\")"
      ],
      "metadata": {
        "colab": {
          "base_uri": "https://localhost:8080/"
        },
        "id": "Vn2uHsePLJ7Q",
        "outputId": "f5632e6b-507f-4a8a-afb9-c1f6998e07b0"
      },
      "execution_count": null,
      "outputs": [
        {
          "output_type": "stream",
          "name": "stdout",
          "text": [
            "The length of Nicla data is 1728006\n",
            "The length of arm data is 1728006\n"
          ]
        }
      ]
    },
    {
      "cell_type": "code",
      "source": [
        "import numpy as np\n",
        "import pandas as pd\n",
        "from sklearn.preprocessing import MinMaxScaler\n",
        "import torch\n",
        "from torch.utils.data import Dataset, DataLoader\n"
      ],
      "metadata": {
        "id": "ZR0O2f4pOoUZ"
      },
      "execution_count": null,
      "outputs": []
    },
    {
      "cell_type": "code",
      "source": [
        "def get_normalized(df, x_min, x_max, train_per, val_per):\n",
        "    \"\"\"\n",
        "    Normalize dataframe with MinMaxScaler and split into train/val/test.\n",
        "    \"\"\"\n",
        "    df_len = len(df)\n",
        "    train_df = df[0:int(df_len * train_per)]\n",
        "    val_df = df[int(df_len * train_per):int(df_len * (train_per + val_per))]\n",
        "    test_df = df[int(df_len * (train_per + val_per)):]\n",
        "\n",
        "    scaler = MinMaxScaler(feature_range=(x_min, x_max))\n",
        "    scaler.fit(train_df)\n",
        "\n",
        "    train_norm = pd.DataFrame(scaler.transform(train_df), columns=df.columns)\n",
        "    val_norm = pd.DataFrame(scaler.transform(val_df), columns=df.columns)\n",
        "    test_norm = pd.DataFrame(scaler.transform(test_df), columns=df.columns)\n",
        "\n",
        "    return train_norm, val_norm, test_norm, scaler\n",
        "\n",
        "X_MIN, X_MAX = 0, 1\n",
        "TRAIN_RAT, VAL_RAT = 0.6, 0.2\n",
        "df_train, df_val, df_test, scaler = get_normalized(nicla_dropped, X_MIN, X_MAX, TRAIN_RAT, VAL_RAT)\n",
        "\n",
        "print(\"Train/Val/Test shapes:\", df_train.shape, df_val.shape, df_test.shape)\n"
      ],
      "metadata": {
        "colab": {
          "base_uri": "https://localhost:8080/"
        },
        "id": "X63F7zOsLKGv",
        "outputId": "5309f6ee-904c-446f-e114-b9a9b21b027e"
      },
      "execution_count": null,
      "outputs": [
        {
          "output_type": "stream",
          "name": "stdout",
          "text": [
            "Train/Val/Test shapes: (1036803, 9) (345601, 9) (345602, 9)\n"
          ]
        }
      ]
    },
    {
      "cell_type": "code",
      "source": [
        "def fast_autocorr(x):\n",
        "    \"\"\"Compute autocorrelation via FFT (O(n log n)) instead of rolling.\"\"\"\n",
        "    x = np.asarray(x)\n",
        "    x = x - np.mean(x)\n",
        "    f = np.fft.fft(x, n=2*len(x))\n",
        "    acf = np.fft.ifft(f * np.conjugate(f)).real\n",
        "    acf = acf[:len(x)]\n",
        "    acf /= acf[0]  # Normalize\n",
        "    return acf\n",
        "\n",
        "def find_best_window_fast(df, window_min, window_max, sample_size=50000):\n",
        "    # Find best window size using FFT-based autocorr.\n",
        "    best = {}\n",
        "\n",
        "    df_sample = df.iloc[:sample_size]\n",
        "    for col in df_sample.columns:\n",
        "        acf = fast_autocorr(df_sample[col].values)\n",
        "\n",
        "        search_range = acf[window_min:window_max+1]\n",
        "        best_corr = np.max(search_range)\n",
        "        best_w = np.argmax(search_range) + window_min\n",
        "        best[col] = (best_corr, best_w)\n",
        "    return best\n",
        "\n",
        "best_windows = find_best_window_fast(df_train, 200, 800, sample_size=50000)\n",
        "print(\"Best windows (FFT method):\", best_windows)\n",
        "\n",
        "# Pick median of best windows\n",
        "input_window = int(np.median([w for _, w in best_windows.values()]))\n",
        "print(\"Chosen input window length:\", input_window)\n"
      ],
      "metadata": {
        "colab": {
          "base_uri": "https://localhost:8080/"
        },
        "id": "3UCbuD24LKTA",
        "outputId": "1fba21ed-c8bd-4699-c3a7-cb1041977a2a"
      },
      "execution_count": null,
      "outputs": [
        {
          "output_type": "stream",
          "name": "stdout",
          "text": [
            "Best windows (FFT method): {'AccX': (np.float64(0.5132671695138454), np.int64(755)), 'AccY': (np.float64(0.9648696097381477), np.int64(755)), 'AccZ': (np.float64(0.4587882190666783), np.int64(755)), 'GyroX': (np.float64(0.9815658916907612), np.int64(755)), 'GyroY': (np.float64(0.9786533790398524), np.int64(755)), 'GyroZ': (np.float64(0.9742880283502036), np.int64(755)), 'MagX': (np.float64(0.9794690271460588), np.int64(755)), 'MagY': (np.float64(0.9846575232940366), np.int64(755)), 'MagZ': (np.float64(0.9834564104746434), np.int64(755))}\n",
            "Chosen input window length: 755\n"
          ]
        }
      ]
    },
    {
      "cell_type": "code",
      "source": [
        "import matplotlib.pyplot as plt\n",
        "\n",
        "def plot_autocorr(df, col, max_lag=1000, sample_size=50000):\n",
        "    \"\"\"\n",
        "    Plot autocorrelation for a single column up to max_lag.\n",
        "    Uses FFT-based autocorr for speed.\n",
        "    \"\"\"\n",
        "    series = df[col].iloc[:sample_size].values\n",
        "    acf = fast_autocorr(series)\n",
        "\n",
        "    plt.figure(figsize=(12, 5))\n",
        "    plt.plot(range(max_lag), acf[:max_lag], lw=1.5)\n",
        "    plt.title(f\"Autocorrelation of {col} (first {sample_size} samples)\")\n",
        "    plt.xlabel(\"Lag\")\n",
        "    plt.ylabel(\"Autocorrelation\")\n",
        "    plt.grid(True)\n",
        "    plt.show()\n",
        "\n",
        "# Example: plot autocorr for accelerometer X-axis\n",
        "plot_autocorr(df_train, df_train.columns[0], max_lag=1000)\n"
      ],
      "metadata": {
        "colab": {
          "base_uri": "https://localhost:8080/",
          "height": 420
        },
        "id": "-gnCvYPVQXEY",
        "outputId": "c6c53166-d9ca-4ddd-85c7-0f2f38bec05a"
      },
      "execution_count": null,
      "outputs": [
        {
          "output_type": "display_data",
          "data": {
            "text/plain": [
              "<Figure size 1200x500 with 1 Axes>"
            ],
            "image/png": "[encoded data removed]"
          },
          "metadata": {}
        }
      ]
    },
    {
      "cell_type": "code",
      "source": [
        "import torch\n",
        "from torch.utils.data import Dataset, DataLoader\n",
        "\n",
        "class TimeSeriesWindowDataset(Dataset):\n",
        "\n",
        "    def __init__(self, df, window_size, stride=10, target_col=None, device=\"cpu\"):\n",
        "        \"\"\"\n",
        "        Args:\n",
        "            df (pd.DataFrame): Multivariate time series.\n",
        "            window_size (int): Length of each input window.\n",
        "            stride (int): Step size between windows (default=10 for speed).\n",
        "            target_col (str): If provided, returns (X, y) where y = next step of this col.\n",
        "                              If None → returns only X (self-supervised).\n",
        "            device (str): \"cpu\" or \"cuda\".\n",
        "        \"\"\"\n",
        "        self.data = torch.tensor(df.values, dtype=torch.float32, device=device)\n",
        "        self.window_size = window_size\n",
        "        self.stride = stride\n",
        "        self.target_col = target_col\n",
        "\n",
        "        # Number of valid windows\n",
        "        self.num_samples = (len(self.data) - window_size) // stride + 1\n",
        "        if self.num_samples <= 0:\n",
        "            raise ValueError(\"Window size larger than dataset length!\")\n",
        "\n",
        "        self.target_idx = df.columns.get_loc(target_col) if target_col else None\n",
        "\n",
        "    def __len__(self):\n",
        "        return self.num_samples\n",
        "\n",
        "    def __getitem__(self, idx):\n",
        "        start = idx * self.stride\n",
        "        end = start + self.window_size\n",
        "        X = self.data[start:end]  # shape: (window_size, num_features)\n",
        "\n",
        "        if self.target_col is None:\n",
        "            return X\n",
        "        else:\n",
        "            y = self.data[end, self.target_idx] if end < len(self.data) else torch.nan\n",
        "            return X, y\n",
        "\n",
        "\n",
        "input_window = 755\n",
        "\n",
        "dataset = TimeSeriesWindowDataset(df_train, window_size=input_window, stride=10, target_col=None)\n",
        "\n",
        "print(\"Number of windows:\", len(dataset))\n",
        "print(\"Shape of one window:\", dataset[0].shape)\n",
        "\n",
        "loader = DataLoader(dataset, batch_size=32, shuffle=True)\n",
        "\n",
        "batch = next(iter(loader))\n",
        "print(\"Batch shape:\", batch.shape)  # (batch_size, window_size, num_features)\n"
      ],
      "metadata": {
        "colab": {
          "base_uri": "https://localhost:8080/"
        },
        "id": "siWlxfrULKea",
        "outputId": "6c3df2ef-6c25-45ab-e747-13eb13a7522e"
      },
      "execution_count": null,
      "outputs": [
        {
          "output_type": "stream",
          "name": "stdout",
          "text": [
            "Number of windows: 103605\n",
            "Shape of one window: torch.Size([755, 9])\n",
            "Batch shape: torch.Size([32, 755, 9])\n"
          ]
        }
      ]
    },
    {
      "cell_type": "code",
      "source": [
        "import torch\n",
        "from torch.utils.data import Dataset, DataLoader\n",
        "import numpy as np\n",
        "\n",
        "class AugmentedTimeSeriesWindowDataset(Dataset):\n",
        "\n",
        "    def __init__(self, df, window_size, stride=10, device=\"cpu\",\n",
        "                 jitter_std=0.01, masking_ratio=0.1, time_warp_max=0.1):\n",
        "        \"\"\"\n",
        "        Args:\n",
        "            df (pd.DataFrame): Input multivariate time series\n",
        "            window_size (int): Length of each sliding window\n",
        "            stride (int): Step size between windows\n",
        "            device (str): \"cpu\" or \"cuda\"\n",
        "            jitter_std (float): Gaussian noise std\n",
        "            masking_ratio (float): Fraction of window to mask\n",
        "            time_warp_max (float): Max fraction to warp time axis\n",
        "        \"\"\"\n",
        "        self.data = torch.tensor(df.values, dtype=torch.float32, device=device)\n",
        "        self.window_size = window_size\n",
        "        self.stride = stride\n",
        "        self.num_samples = (len(self.data) - window_size) // stride + 1\n",
        "        self.jitter_std = jitter_std\n",
        "        self.masking_ratio = masking_ratio\n",
        "        self.time_warp_max = time_warp_max\n",
        "\n",
        "        if self.num_samples <= 0:\n",
        "            raise ValueError(\"Window size larger than dataset length!\")\n",
        "\n",
        "    def __len__(self):\n",
        "        return self.num_samples\n",
        "\n",
        "    def __getitem__(self, idx):\n",
        "        start = idx * self.stride\n",
        "        end = start + self.window_size\n",
        "        X = self.data[start:end]  # shape: (window_size, num_features)\n",
        "\n",
        "        view1 = self.augment(X)\n",
        "        view2 = self.augment(X)\n",
        "        return view1, view2\n",
        "\n",
        "    def augment(self, X):\n",
        "        \"\"\"Apply jitter, masking, and fast index-based time warping\"\"\"\n",
        "        X_aug = X.clone()\n",
        "\n",
        "        # 1. Jittering (add Gaussian noise)\n",
        "        noise = torch.randn_like(X_aug) * self.jitter_std\n",
        "        X_aug += noise\n",
        "\n",
        "        # 2. Random masking (mask continuous chunk)\n",
        "        mask_len = int(self.window_size * self.masking_ratio)\n",
        "        if mask_len > 0:\n",
        "            start_mask = np.random.randint(0, self.window_size - mask_len)\n",
        "            X_aug[start_mask:start_mask+mask_len] = 0.0\n",
        "\n",
        "        # 3. Time warping (fast index-based approximation)\n",
        "        warp_factor = 1.0 + np.random.uniform(-self.time_warp_max, self.time_warp_max)\n",
        "        orig_indices = torch.arange(self.window_size, dtype=torch.float32, device=X_aug.device)\n",
        "        warped_indices_float = torch.clamp(orig_indices * warp_factor, 0, self.window_size - 1)\n",
        "        warped_indices = warped_indices_float.long()  # convert to integer for indexing\n",
        "        X_aug = X_aug[warped_indices]\n",
        "\n",
        "        return X_aug\n",
        "\n",
        "input_window = 755\n",
        "device = \"cuda\" if torch.cuda.is_available() else \"cpu\"\n",
        "\n",
        "aug_dataset = AugmentedTimeSeriesWindowDataset(df_train, window_size=input_window, stride=10, device=device)\n",
        "\n",
        "batch_size = 64\n",
        "\n",
        "try:\n",
        "    aug_loader = DataLoader(aug_dataset, batch_size=batch_size, shuffle=True)\n",
        "    view1, view2 = next(iter(aug_loader))\n",
        "    print(f\"View1 shape: {view1.shape}, View2 shape: {view2.shape}\")\n",
        "except RuntimeError as e:\n",
        "    print(f\"⚠️ GPU memory error with batch_size={batch_size}: {e}\")\n",
        "    print(\"Try reducing batch_size to 32 or 16.\")"
      ],
      "metadata": {
        "colab": {
          "base_uri": "https://localhost:8080/"
        },
        "id": "74yAfv4FRpRP",
        "outputId": "907ae667-91f1-4a56-d0d7-60737bb7e68f"
      },
      "execution_count": null,
      "outputs": [
        {
          "output_type": "stream",
          "name": "stdout",
          "text": [
            "View1 shape: torch.Size([64, 755, 9]), View2 shape: torch.Size([64, 755, 9])\n"
          ]
        }
      ]
    },
    {
      "cell_type": "code",
      "source": [
        "import torch\n",
        "import torch.nn as nn\n",
        "import torch.nn.functional as F\n",
        "from torch.utils.data import DataLoader\n",
        "import copy\n",
        "import numpy as np\n",
        "\n",
        "device = \"cuda\" if torch.cuda.is_available() else \"cpu\"\n",
        "print(\"Using device:\", device)\n"
      ],
      "metadata": {
        "colab": {
          "base_uri": "https://localhost:8080/"
        },
        "id": "jwWyOBnKLKqI",
        "outputId": "77a6fe8a-0078-4c8e-e988-a8fd83d4d985"
      },
      "execution_count": null,
      "outputs": [
        {
          "output_type": "stream",
          "name": "stdout",
          "text": [
            "Using device: cuda\n"
          ]
        }
      ]
    },
    {
      "cell_type": "code",
      "source": [
        "import torch\n",
        "import torch.nn as nn\n",
        "import torch.nn.functional as F\n",
        "import copy\n",
        "\n",
        "# Residual Block for TS2Vec\n",
        "class ResidualBlock1D(nn.Module):\n",
        "    def __init__(self, in_channels, out_channels, kernel_size=5, dilation=1):\n",
        "        super().__init__()\n",
        "        padding = (kernel_size - 1) // 2 * dilation\n",
        "        self.conv1 = nn.Conv1d(in_channels, out_channels, kernel_size, padding=padding, dilation=dilation)\n",
        "        self.bn1 = nn.BatchNorm1d(out_channels)\n",
        "        self.relu = nn.ReLU()\n",
        "        self.conv2 = nn.Conv1d(out_channels, out_channels, kernel_size, padding=padding, dilation=dilation)\n",
        "        self.bn2 = nn.BatchNorm1d(out_channels)\n",
        "        self.residual = nn.Conv1d(in_channels, out_channels, 1) if in_channels != out_channels else nn.Identity()\n",
        "\n",
        "    def forward(self, x):\n",
        "        res = self.residual(x)\n",
        "        x = self.relu(self.bn1(self.conv1(x)))\n",
        "        x = self.bn2(self.conv2(x))\n",
        "        return self.relu(x + res)\n",
        "\n",
        "# TS2Vec Backbone\n",
        "class TS2VecBackbone(nn.Module):\n",
        "    def __init__(self, input_dim, hidden_dim=128, num_layers=3, kernel_size=5):\n",
        "        super().__init__()\n",
        "        layers = []\n",
        "        in_channels = input_dim\n",
        "        for _ in range(num_layers):\n",
        "            layers.append(ResidualBlock1D(in_channels, hidden_dim, kernel_size))\n",
        "            in_channels = hidden_dim\n",
        "        self.encoder = nn.Sequential(*layers)\n",
        "        self.pool = nn.AdaptiveAvgPool1d(1)\n",
        "        self.out_dim = hidden_dim\n",
        "\n",
        "    def forward(self, x):\n",
        "        x = x.permute(0, 2, 1) # (batch, features, window_size)\n",
        "        x = self.encoder(x)\n",
        "        x = self.pool(x).squeeze(-1)\n",
        "        return x\n",
        "\n",
        "# DINO Wrapper\n",
        "class DINO_TS2Vec(nn.Module):\n",
        "    def __init__(self, input_dim, hidden_dim=128, proj_dim=64, teacher_momentum=0.99):\n",
        "        super().__init__()\n",
        "        self.student = TS2VecBackbone(input_dim, hidden_dim)\n",
        "        self.teacher = copy.deepcopy(self.student)\n",
        "        self.proj_student = nn.Linear(self.student.out_dim, proj_dim)\n",
        "        self.proj_teacher = nn.Linear(self.teacher.out_dim, proj_dim)\n",
        "        self.teacher.requires_grad_(False)\n",
        "        self.teacher_momentum = teacher_momentum\n",
        "\n",
        "    @torch.no_grad()\n",
        "    def update_teacher(self):\n",
        "        for s_param, t_param in zip(self.student.parameters(), self.teacher.parameters()):\n",
        "            t_param.data = self.teacher_momentum * t_param.data + (1 - self.teacher_momentum) * s_param.data\n",
        "        for s_param, t_param in zip(self.proj_student.parameters(), self.proj_teacher.parameters()):\n",
        "            t_param.data = self.teacher_momentum * t_param.data + (1 - self.teacher_momentum) * s_param.data\n",
        "\n",
        "    def forward(self, x1, x2):\n",
        "        z1 = self.proj_student(self.student(x1))\n",
        "        z2 = self.proj_student(self.student(x2))\n",
        "        with torch.no_grad():\n",
        "            t1 = self.proj_teacher(self.teacher(x1))\n",
        "            t2 = self.proj_teacher(self.teacher(x2))\n",
        "        return z1, z2, t1.detach(), t2.detach()\n"
      ],
      "metadata": {
        "id": "C6fA0vwRWF17"
      },
      "execution_count": null,
      "outputs": []
    },
    {
      "cell_type": "code",
      "source": [
        "def dino_loss(student_out, teacher_out, tau=0.1):\n",
        "    # L2 normalize\n",
        "    student_out = F.normalize(student_out, dim=-1)\n",
        "    teacher_out = F.normalize(teacher_out, dim=-1)\n",
        "    # InfoNCE-style cross-entropy\n",
        "    logits = student_out @ teacher_out.T / tau\n",
        "    labels = torch.arange(student_out.shape[0], device=student_out.device)\n",
        "    return F.cross_entropy(logits, labels)\n"
      ],
      "metadata": {
        "id": "2edjZAF4WGGE"
      },
      "execution_count": null,
      "outputs": []
    },
    {
      "cell_type": "code",
      "source": [
        "from torch.utils.data import DataLoader\n",
        "\n",
        "device = \"cuda\" if torch.cuda.is_available() else \"cpu\"\n",
        "print(device)\n",
        "input_dim = df_train.shape[1]  # number of features\n",
        "proj_dim = 64\n",
        "hidden_dim = 128\n",
        "batch_size = 32\n",
        "epochs = 20\n",
        "\n",
        "model = DINO_TS2Vec(input_dim=input_dim, hidden_dim=hidden_dim, proj_dim=proj_dim).to(device)\n",
        "print(\"model initialized\")\n",
        "\n",
        "optimizer = torch.optim.AdamW(model.student.parameters(), lr=3e-4, weight_decay=1e-4)\n",
        "scheduler = torch.optim.lr_scheduler.CosineAnnealingLR(optimizer, T_max=epochs)\n",
        "print(\"optimizer and scheduler declared\")\n",
        "\n",
        "scaler = torch.cuda.amp.GradScaler()\n",
        "aug_loader = DataLoader(aug_dataset, batch_size=batch_size, shuffle=True)\n",
        "print(\"scaler and aug_loader done\")\n",
        "\n",
        "for ep in range(epochs):\n",
        "    model.train()\n",
        "    total_loss = 0\n",
        "    for x1, x2 in aug_loader:\n",
        "        x1, x2 = x1.to(device), x2.to(device)\n",
        "        optimizer.zero_grad()\n",
        "        with torch.cuda.amp.autocast():\n",
        "            z1, z2, t1, t2 = model(x1, x2)\n",
        "            loss = dino_loss(z1, t2) + dino_loss(z2, t1)\n",
        "        scaler.scale(loss).backward()\n",
        "        scaler.unscale_(optimizer)\n",
        "        torch.nn.utils.clip_grad_norm_(model.student.parameters(), 1.5)  # Grad clipping\n",
        "        scaler.step(optimizer)\n",
        "        scaler.update()\n",
        "        model.update_teacher()\n",
        "        total_loss += loss.item()\n",
        "    scheduler.step()\n",
        "    print(f\"Epoch {ep+1}/{epochs} - Loss: {total_loss/len(aug_loader):.4f}\")\n"
      ],
      "metadata": {
        "colab": {
          "base_uri": "https://localhost:8080/"
        },
        "id": "_FsBgiUhWGJc",
        "outputId": "2222a1a7-a630-4c71-9abb-4cb11b2fb89a"
      },
      "execution_count": null,
      "outputs": [
        {
          "output_type": "stream",
          "name": "stdout",
          "text": [
            "cuda\n",
            "model initialized\n",
            "optimizer and scheduler declared\n",
            "scaler and aug_loader done\n"
          ]
        },
        {
          "output_type": "stream",
          "name": "stderr",
          "text": [
            "/tmp/ipython-input-1566197116.py:18: FutureWarning: `torch.cuda.amp.GradScaler(args...)` is deprecated. Please use `torch.amp.GradScaler('cuda', args...)` instead.\n",
            "  scaler = torch.cuda.amp.GradScaler()\n",
            "/tmp/ipython-input-1566197116.py:28: FutureWarning: `torch.cuda.amp.autocast(args...)` is deprecated. Please use `torch.amp.autocast('cuda', args...)` instead.\n",
            "  with torch.cuda.amp.autocast():\n"
          ]
        },
        {
          "output_type": "stream",
          "name": "stdout",
          "text": [
            "Epoch 1/20 - Loss: 2.0128\n",
            "Epoch 2/20 - Loss: 0.3372\n",
            "Epoch 3/20 - Loss: 0.1687\n",
            "Epoch 4/20 - Loss: 0.1153\n",
            "Epoch 5/20 - Loss: 0.0882\n",
            "Epoch 6/20 - Loss: 0.0728\n",
            "Epoch 7/20 - Loss: 0.0622\n",
            "Epoch 8/20 - Loss: 0.0555\n",
            "Epoch 9/20 - Loss: 0.0503\n"
          ]
        }
      ]
    },
    {
      "cell_type": "code",
      "source": [
        "device = \"cuda\" if torch.cuda.is_available() else \"cpu\"\n",
        "model.student.eval()  # set backbone to eval mode\n",
        "\n",
        "def get_dual_view_embeddings(dataset, model, batch_size=32):\n",
        "\n",
        "    loader = DataLoader(dataset, batch_size=batch_size, shuffle=False)\n",
        "    all_emb1, all_emb2 = [], []\n",
        "    device = \"cuda\" if torch.cuda.is_available() else \"cpu\"\n",
        "    model.eval()\n",
        "\n",
        "    with torch.no_grad():\n",
        "        for batch in loader:\n",
        "            x1, x2 = batch\n",
        "            x1, x2 = x1.to(device), x2.to(device)\n",
        "\n",
        "            emb1 = model.student(x1)\n",
        "            emb2 = model.student(x2)\n",
        "\n",
        "            all_emb1.append(emb1.cpu())\n",
        "            all_emb2.append(emb2.cpu())\n",
        "\n",
        "    # Concatenate all batches\n",
        "    embeddings_view1 = torch.cat(all_emb1, dim=0)\n",
        "    embeddings_view2 = torch.cat(all_emb2, dim=0)\n",
        "    return embeddings_view1, embeddings_view2\n",
        "\n",
        "emb_view1, emb_view2 = get_dual_view_embeddings(aug_dataset, model, batch_size=32)\n",
        "print(\"View1 embeddings shape:\", emb_view1.shape)\n",
        "print(\"View2 embeddings shape:\", emb_view2.shape)\n"
      ],
      "metadata": {
        "id": "_wHwCHCZfja6"
      },
      "execution_count": null,
      "outputs": []
    },
    {
      "cell_type": "code",
      "source": [
        "import torch\n",
        "from torch.utils.data import TensorDataset, DataLoader\n",
        "\n",
        "device = \"cuda\" if torch.cuda.is_available() else \"cpu\"\n",
        "\n",
        "# Average dual-view embeddings\n",
        "embeddings = (emb_view1 + emb_view2) / 2\n",
        "embeddings = embeddings.float()\n",
        "\n",
        "# Labels (truncate to embeddings length)\n",
        "labels = torch.tensor(right_arm[\"Anomaly State\"].values[:len(embeddings)], dtype=torch.long)\n",
        "\n",
        "# Dataset & DataLoader\n",
        "dataset = TensorDataset(embeddings, labels)\n",
        "loader = DataLoader(dataset, batch_size=32, shuffle=True)\n",
        "\n",
        "print(\"Dataset prepared. Embeddings shape:\", embeddings.shape)\n"
      ],
      "metadata": {
        "id": "whDVyTAJ49ed"
      },
      "execution_count": null,
      "outputs": []
    },
    {
      "cell_type": "code",
      "source": [
        "#MLP Autoencoder\n",
        "import torch.nn as nn\n",
        "\n",
        "class MLP_AE(nn.Module):\n",
        "    def __init__(self, input_dim):\n",
        "        super().__init__()\n",
        "        self.encoder = nn.Sequential(\n",
        "            nn.Linear(input_dim, 128),\n",
        "            nn.ReLU(),\n",
        "            nn.Linear(128, 32),\n",
        "            nn.ReLU()\n",
        "        )\n",
        "        self.decoder = nn.Sequential(\n",
        "            nn.Linear(32, 128),\n",
        "            nn.ReLU(),\n",
        "            nn.Linear(128, input_dim)\n",
        "        )\n",
        "\n",
        "    def forward(self, x):\n",
        "        z = self.encoder(x)\n",
        "        out = self.decoder(z)\n",
        "        return out\n",
        "\n",
        "mlp_ae = MLP_AE(embeddings.shape[1]).to(device)\n",
        "optimizer_ae = torch.optim.Adam(mlp_ae.parameters(), lr=1e-3)\n",
        "criterion_ae = nn.MSELoss()\n"
      ],
      "metadata": {
        "id": "h1stSDoG54nk"
      },
      "execution_count": null,
      "outputs": []
    },
    {
      "cell_type": "code",
      "source": [
        "#train MLP Autoencoder\n",
        "mlp_ae.train()\n",
        "epochs = 10\n",
        "\n",
        "for ep in range(epochs):\n",
        "    total_loss = 0\n",
        "    for x, _ in loader:\n",
        "        x = x.to(device)\n",
        "        optimizer_ae.zero_grad()\n",
        "        recon = mlp_ae(x)\n",
        "        loss = criterion_ae(recon, x)\n",
        "        loss.backward()\n",
        "        optimizer_ae.step()\n",
        "        total_loss += loss.item()\n",
        "    print(f\"MLP-AE Epoch {ep+1}/{epochs} - Loss: {total_loss/len(loader):.4f}\")"
      ],
      "metadata": {
        "id": "10JG5Twh6ddP"
      },
      "execution_count": null,
      "outputs": []
    },
    {
      "cell_type": "code",
      "source": [
        "class VAE(nn.Module):\n",
        "    def __init__(self, input_dim, hidden_dim=128, latent_dim=32):\n",
        "        super().__init__()\n",
        "        # Encoder\n",
        "        self.fc1 = nn.Linear(input_dim, hidden_dim)\n",
        "        self.fc_mu = nn.Linear(hidden_dim, latent_dim)\n",
        "        self.fc_logvar = nn.Linear(hidden_dim, latent_dim)\n",
        "        # Decoder\n",
        "        self.fc2 = nn.Linear(latent_dim, hidden_dim)\n",
        "        self.fc3 = nn.Linear(hidden_dim, input_dim)\n",
        "\n",
        "    def encode(self, x):\n",
        "        h = torch.relu(self.fc1(x))\n",
        "        return self.fc_mu(h), self.fc_logvar(h)\n",
        "\n",
        "    def reparameterize(self, mu, logvar):\n",
        "        std = torch.exp(0.5*logvar)\n",
        "        eps = torch.randn_like(std)\n",
        "        return mu + eps*std\n",
        "\n",
        "    def decode(self, z):\n",
        "        h = torch.relu(self.fc2(z))\n",
        "        return self.fc3(h)\n",
        "\n",
        "    def forward(self, x):\n",
        "        mu, logvar = self.encode(x)\n",
        "        z = self.reparameterize(mu, logvar)\n",
        "        return self.decode(z), mu, logvar\n",
        "\n",
        "vae = VAE(embeddings.shape[1]).to(device)\n",
        "optimizer_vae = torch.optim.Adam(vae.parameters(), lr=1e-3)\n"
      ],
      "metadata": {
        "id": "daxly5k86hfh"
      },
      "execution_count": null,
      "outputs": []
    },
    {
      "cell_type": "code",
      "source": [
        "def vae_loss(recon_x, x, mu, logvar):\n",
        "    BCE = nn.MSELoss()(recon_x, x)\n",
        "    KLD = -0.5 * torch.mean(1 + logvar - mu.pow(2) - logvar.exp())\n",
        "    return BCE + KLD\n",
        "\n",
        "vae.train()\n",
        "epochs = 10\n",
        "\n",
        "for ep in range(epochs):\n",
        "    total_loss = 0\n",
        "    for x, _ in loader:\n",
        "        x = x.to(device)\n",
        "        optimizer_vae.zero_grad()\n",
        "        recon, mu, logvar = vae(x)\n",
        "        loss = vae_loss(recon, x, mu, logvar)\n",
        "        loss.backward()\n",
        "        optimizer_vae.step()\n",
        "        total_loss += loss.item()\n",
        "    print(f\"VAE Epoch {ep+1}/{epochs} - Loss: {total_loss/len(loader):.4f}\")\n"
      ],
      "metadata": {
        "id": "knbgZk8n6k33"
      },
      "execution_count": null,
      "outputs": []
    },
    {
      "cell_type": "code",
      "source": [
        "class CNN_AE(nn.Module):\n",
        "    def __init__(self, input_dim):\n",
        "        super().__init__()\n",
        "        self.encoder = nn.Sequential(\n",
        "            nn.Conv1d(1, 16, kernel_size=3, padding=1),\n",
        "            nn.ReLU(),\n",
        "            nn.Conv1d(16, 8, kernel_size=3, padding=1),\n",
        "            nn.ReLU()\n",
        "        )\n",
        "        self.decoder = nn.Sequential(\n",
        "            nn.ConvTranspose1d(8, 16, kernel_size=3, padding=1),\n",
        "            nn.ReLU(),\n",
        "            nn.ConvTranspose1d(16, 1, kernel_size=3, padding=1)\n",
        "        )\n",
        "\n",
        "    def forward(self, x):\n",
        "        x = x.unsqueeze(1)  # (batch, 1, features)\n",
        "        z = self.encoder(x)\n",
        "        out = self.decoder(z)\n",
        "        return out.squeeze(1)\n",
        "\n",
        "cnn_ae = CNN_AE(embeddings.shape[1]).to(device)\n",
        "optimizer_cnn = torch.optim.Adam(cnn_ae.parameters(), lr=1e-3)\n",
        "criterion_cnn = nn.MSELoss()\n"
      ],
      "metadata": {
        "id": "m86akurV6rvb"
      },
      "execution_count": null,
      "outputs": []
    },
    {
      "cell_type": "code",
      "source": [
        "cnn_ae.train()\n",
        "epochs = 10\n",
        "\n",
        "for ep in range(epochs):\n",
        "    total_loss = 0\n",
        "    for x, _ in loader:\n",
        "        x = x.to(device)\n",
        "        optimizer_cnn.zero_grad()\n",
        "        recon = cnn_ae(x)\n",
        "        loss = criterion_cnn(recon, x)\n",
        "        loss.backward()\n",
        "        optimizer_cnn.step()\n",
        "        total_loss += loss.item()\n",
        "    print(f\"CNN-AE Epoch {ep+1}/{epochs} - Loss: {total_loss/len(loader):.4f}\")\n"
      ],
      "metadata": {
        "id": "vCOT5tpI6u98"
      },
      "execution_count": null,
      "outputs": []
    },
    {
      "cell_type": "code",
      "source": [
        "class LSTM_AE(nn.Module):\n",
        "    def __init__(self, input_dim, hidden_dim=64):\n",
        "        super().__init__()\n",
        "        self.encoder = nn.LSTM(input_dim, hidden_dim, batch_first=True)\n",
        "        self.decoder = nn.LSTM(hidden_dim, input_dim, batch_first=True)\n",
        "\n",
        "    def forward(self, x):\n",
        "        x_seq = x.unsqueeze(1)  # (batch, seq_len=1, features)\n",
        "        _, (h, _) = self.encoder(x_seq)\n",
        "        dec_out, _ = self.decoder(h.repeat(1, 1, 1))\n",
        "        return dec_out.squeeze(1)\n",
        "\n",
        "lstm_ae = LSTM_AE(embeddings.shape[1]).to(device)\n",
        "optimizer_lstm = torch.optim.Adam(lstm_ae.parameters(), lr=1e-3)\n",
        "criterion_lstm = nn.MSELoss()\n"
      ],
      "metadata": {
        "id": "XDWhV5H06xdN"
      },
      "execution_count": null,
      "outputs": []
    },
    {
      "cell_type": "code",
      "source": [
        "lstm_ae.train()\n",
        "epochs = 10\n",
        "\n",
        "for ep in range(epochs):\n",
        "    total_loss = 0\n",
        "    for x, _ in loader:\n",
        "        x = x.to(device)\n",
        "        optimizer_lstm.zero_grad()\n",
        "        recon = lstm_ae(x)\n",
        "        loss = criterion_lstm(recon, x)\n",
        "        loss.backward()\n",
        "        optimizer_lstm.step()\n",
        "        total_loss += loss.item()\n",
        "    print(f\"LSTM-AE Epoch {ep+1}/{epochs} - Loss: {total_loss/len(loader):.4f}\")\n"
      ],
      "metadata": {
        "id": "Jx0SsAuC61Ug"
      },
      "execution_count": null,
      "outputs": []
    },
    {
      "cell_type": "code",
      "source": [
        "class MLP_Classifier(nn.Module):\n",
        "    def __init__(self, input_dim):\n",
        "        super().__init__()\n",
        "        self.net = nn.Sequential(\n",
        "            nn.Linear(input_dim, 128),\n",
        "            nn.ReLU(),\n",
        "            nn.Linear(128, 64),\n",
        "            nn.ReLU(),\n",
        "            nn.Linear(64, 2)\n",
        "        )\n",
        "\n",
        "    def forward(self, x):\n",
        "        return self.net(x)\n",
        "\n",
        "mlp_clf = MLP_Classifier(embeddings.shape[1]).to(device)\n",
        "optimizer_clf = torch.optim.Adam(mlp_clf.parameters(), lr=1e-3)\n",
        "criterion_clf = nn.CrossEntropyLoss()\n"
      ],
      "metadata": {
        "id": "sp8dXFM_64Ks"
      },
      "execution_count": null,
      "outputs": []
    },
    {
      "cell_type": "code",
      "source": [
        "mlp_clf.train()\n",
        "epochs = 10\n",
        "\n",
        "for ep in range(epochs):\n",
        "    total_loss = 0\n",
        "    for x, y in loader:\n",
        "        x, y = x.to(device), y.to(device)\n",
        "        optimizer_clf.zero_grad()\n",
        "        out = mlp_clf(x)\n",
        "        loss = criterion_clf(out, y)\n",
        "        loss.backward()\n",
        "        optimizer_clf.step()\n",
        "        total_loss += loss.item()\n",
        "    print(f\"MLP Classifier Epoch {ep+1}/{epochs} - Loss: {total_loss/len(loader):.4f}\")\n"
      ],
      "metadata": {
        "id": "IIG56aqI66uy"
      },
      "execution_count": null,
      "outputs": []
    },
    {
      "cell_type": "code",
      "source": [
        "from sklearn.metrics import accuracy_score, f1_score, roc_auc_score\n",
        "\n",
        "def get_preds_ae(model, X_tensor, threshold=None):\n",
        "    model.eval()\n",
        "    with torch.no_grad():\n",
        "        if isinstance(model, (CNN_AE, LSTM_AE)):\n",
        "            recon = model(X_tensor.to(device))\n",
        "        else:\n",
        "            recon = model(X_tensor.to(device))\n",
        "        errors = ((recon.cpu() - X_tensor) ** 2).mean(dim=1).numpy()\n",
        "    if threshold is None:\n",
        "        threshold = errors[labels_tensor==0].mean() + 3 * errors[labels_tensor==0].std()\n",
        "    return (errors > threshold).astype(int)\n",
        "\n",
        "# Autoencoders\n",
        "mlp_ae_preds = get_preds_ae(mlp_ae, embeddings)\n",
        "vae_preds = get_preds_ae(vae, embeddings)\n",
        "cnn_ae_preds = get_preds_ae(cnn_ae, embeddings)\n",
        "lstm_ae_preds = get_preds_ae(lstm_ae, embeddings)\n",
        "\n",
        "# Classifier\n",
        "mlp_clf.eval()\n",
        "with torch.no_grad():\n",
        "    logits = mlp_clf(embeddings.to(device))\n",
        "    mlp_clf_preds = torch.argmax(logits, dim=1).cpu().numpy()\n",
        "\n",
        "# Compile results\n",
        "results = {\n",
        "    \"MLP-AE\": mlp_ae_preds,\n",
        "    \"VAE\": vae_preds,\n",
        "    \"CNN-AE\": cnn_ae_preds,\n",
        "    \"LSTM-AE\": lstm_ae_preds,\n",
        "    \"MLP-Classifier\": mlp_clf_preds\n",
        "}\n",
        "\n",
        "metrics = []\n",
        "for name, pred in results.items():\n",
        "    acc = accuracy_score(labels, pred)\n",
        "    f1 = f1_score(labels, pred)\n",
        "    auc = roc_auc_score(labels, pred)\n",
        "    metrics.append([name, acc, f1, auc])\n",
        "\n",
        "import pandas as pd\n",
        "df_metrics = pd.DataFrame(metrics, columns=[\"Algorithm\", \"Accuracy\", \"F1-Score\", \"ROC-AUC\"])\n",
        "print(df_metrics)"
      ],
      "metadata": {
        "id": "2n9JhYHd69gF"
      },
      "execution_count": null,
      "outputs": []
    },
    {
      "cell_type": "code",
      "source": [],
      "metadata": {
        "id": "cSgMbZUlCz26"
      },
      "execution_count": null,
      "outputs": []
    }
  ]
}